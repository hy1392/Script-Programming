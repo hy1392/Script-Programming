{
 "cells": [
  {
   "cell_type": "markdown",
   "metadata": {},
   "source": [
    "##스크립트 프로그래밍 과제4\n",
    "#####2014136032 김현국"
   ]
  },
  {
   "cell_type": "markdown",
   "metadata": {},
   "source": [
    "#####1-1. 파일 s.txt을 읽어서 각 라인에 있는 첫 번째 단어(문자열) 자체들을 기준으로 라인별 정렬후 파일 s1.txt에 그 결과를 기록하는 코드를 작성하시오. 즉, 프로그램 수행 후 s1.txt에 있는 파일 내용은 다음과 같다."
   ]
  },
  {
   "cell_type": "code",
   "execution_count": 35,
   "metadata": {
    "collapsed": false
   },
   "outputs": [
    {
     "name": "stdout",
     "output_type": "stream",
     "text": [
      "cat dog\n",
      "dog pig\n",
      "ham bird\n",
      "pig ham\n"
     ]
    }
   ],
   "source": [
    "f=file(\"s.txt\",'r')\n",
    "tmp=f.read().split('\\n')\n",
    "tmp.sort()\n",
    "f.close()\n",
    "f=file('s1.txt','w')\n",
    "f.write('\\n'.join(tmp))\n",
    "f.close()\n",
    "f=file(\"s1.txt\",'r')\n",
    "tmp=f.read()\n",
    "print tmp\n",
    "f.close()"
   ]
  },
  {
   "cell_type": "markdown",
   "metadata": {},
   "source": [
    "#####file(\"s.txt\",'r')로 읽기 형식으로 파일을 읽어온 뒤, \\n은 기준으로 읽어온 값들을 split하여 그 값을 토대로 sort를 실행해 주었다. 이후 쓰기 형식으로 파일을 다시 열어와 정렬된 값들을 join을 이용하여 써내려간 뒤 다시 읽기 형식으로 파일을 읽어들여 안에 있는 내용을 모두 출력해 주었다."
   ]
  },
  {
   "cell_type": "markdown",
   "metadata": {},
   "source": [
    "#####1-2. 파일 s.txt을 읽어서 각 라인에 있는 두 번째 단어(문자열) 자체들을 기준으로 라인별 정렬후 파일 s2.txt에 그 결과를 기록하는 코드를 작성하시오. 즉, 프로그램 수행 후 s2.txt에 있는 파일 내용은 다음과 같다."
   ]
  },
  {
   "cell_type": "code",
   "execution_count": 32,
   "metadata": {
    "collapsed": false
   },
   "outputs": [
    {
     "name": "stdout",
     "output_type": "stream",
     "text": [
      "ham bird\n",
      "cat dog\n",
      "pig ham\n",
      "dog pig\n",
      "\n"
     ]
    }
   ],
   "source": [
    "f=file(\"s.txt\",'r')\n",
    "tmp=f.read().split('\\n')\n",
    "tmp2=[]\n",
    "for i in tmp:\n",
    "    tmp2.append(i.split(' ')[1]+' '+i.split(' ')[0])\n",
    "tmp2.sort()\n",
    "f.close()\n",
    "f=file('s2.txt','w')\n",
    "for i in tmp2:\n",
    "    f.write((i.split(' ')[1]+' '+i.split(' ')[0])+'\\n')\n",
    "f.close()\n",
    "f=file(\"s2.txt\",'r')\n",
    "tmp=f.read()\n",
    "print tmp\n",
    "f.close()"
   ]
  },
  {
   "cell_type": "markdown",
   "metadata": {},
   "source": [
    "#####file(\"s.txt\",'r')로 읽기 형식으로 파일을 읽어온 뒤, \\n은 기준으로 읽어온 값들을 split한 뒤 그 값들의 앞과 뒤 단어를 바꾸어 배열에 저장한 뒤 sort하여 주고 이후 다시 앞, 뒤의 단어 위치를 바꾸어 준 뒤 쓰기 형식으로 파일을 다시 열어와 정렬된 값들을 join을 이용하여 써내려간 뒤 다시 읽기 형식으로 파일을 읽어들여 안에 있는 내용을 모두 출력해 주었다."
   ]
  },
  {
   "cell_type": "markdown",
   "metadata": {},
   "source": [
    "#####1-3. 파일 s.txt을 읽어서 각 라인들에 있는 모든 단어들을 순차적으로 다시 나열하되 각 라인에 세 개의 단어들이 오도록 하여 s3.txt에 기록하는 코드를 작성하시오. 즉, 프로그램 수행 후 s3.txt에 있는 파일 내용은 다음과 같다."
   ]
  },
  {
   "cell_type": "code",
   "execution_count": 2,
   "metadata": {
    "collapsed": false
   },
   "outputs": [
    {
     "name": "stdout",
     "output_type": "stream",
     "text": [
      "pig ham cat \n",
      "dog ham bird \n",
      "dog pig \n"
     ]
    }
   ],
   "source": [
    "f=file(\"s.txt\",'r')\n",
    "tmp=f.read().split('\\n')\n",
    "s=' '.join(tmp)\n",
    "tmp=s.split(' ')\n",
    "f.close()\n",
    "f=file('s3.txt','w')\n",
    "for i in range(1,len(tmp)+1):\n",
    "    f.write(tmp[i-1]+' ')\n",
    "    if i%3==0:\n",
    "        f.write('\\n')\n",
    "f.close()\n",
    "f=file(\"s3.txt\",'r')\n",
    "tmp=f.read()\n",
    "print tmp\n",
    "f.close()"
   ]
  },
  {
   "cell_type": "markdown",
   "metadata": {},
   "source": [
    "#####file(\"s.txt\",'r')로 읽기 형식으로 파일을 읽어온 뒤, \\n은 기준으로 읽어온 값들을 split한 뒤 3 단어 씩 한 줄에 저장되도록 if문을 넣어 처리를 하고 3단어를 출력할 때 마다 줄 바꿈을 실행하도록 하였다. 이후 파일을 다시 읽어와 전체 내용을 출력하여 주었다."
   ]
  },
  {
   "cell_type": "markdown",
   "metadata": {},
   "source": [
    "#####2. 조건들을 참고하여 회원 가입 및 로그인 프로그램을 작성하시오."
   ]
  },
  {
   "cell_type": "code",
   "execution_count": 1,
   "metadata": {
    "collapsed": false,
    "scrolled": false
   },
   "outputs": [
    {
     "name": "stdout",
     "output_type": "stream",
     "text": [
      "Welcome to Our Service\n",
      "1. Sign Up\n",
      "2. Sign In\n",
      "3. Quit\n",
      "select menu1\n",
      "idaaaa\n",
      "passwordbbbb\n",
      "namecccc\n",
      "schooldddd\n",
      "Welcome to Our Service\n",
      "1. Sign Up\n",
      "2. Sign In\n",
      "3. Quit\n",
      "select menu1\n",
      "idaaaa\n",
      "Sorry, the entered ID is already used.\n",
      "id1111\n",
      "password2222\n",
      "name3333\n",
      "school4444\n",
      "Welcome to Our Service\n",
      "1. Sign Up\n",
      "2. Sign In\n",
      "3. Quit\n",
      "select menu2\n",
      "id1234\n",
      "Sorry, you are not a registered member.\n",
      "id1111\n",
      "password1111\n",
      "Sorry, the entered password is not correct.\n",
      "password1234\n",
      "Sorry, the entered password is not correct.\n",
      "password2222\n",
      "Hello 3333\n",
      "Welcome to Our Service\n",
      "1. Sign Up\n",
      "2. Sign In\n",
      "3. Quit\n",
      "select menu2\n",
      "idaaaa\n",
      "passwordbbbb\n",
      "Hello cccc\n",
      "Welcome to Our Service\n",
      "1. Sign Up\n",
      "2. Sign In\n",
      "3. Quit\n",
      "select menu3\n"
     ]
    }
   ],
   "source": [
    "import sha\n",
    "while(1):\n",
    "    print 'Welcome to Our Service'\n",
    "    print '1. Sign Up'\n",
    "    print '2. Sign In'\n",
    "    print '3. Quit'\n",
    "    f=file('access.txt','a')\n",
    "    f.close()\n",
    "    userinput=raw_input(\"select menu\")\n",
    "    if(userinput=='1'):\n",
    "        while(1):\n",
    "            isdone=0\n",
    "            in1=raw_input(\"id\")\n",
    "            f=file('access.txt','r')\n",
    "            tmp=f.readlines()\n",
    "            f.close()\n",
    "            if tmp!=[]:\n",
    "                count=0\n",
    "                for i in tmp:\n",
    "                    key=''\n",
    "                    for j in i:\n",
    "                        if j!='[' and j!=']' and j!=',' and j!=':':\n",
    "                            key+=j\n",
    "                    key=key.split()\n",
    "                    if(key[0]==in1):\n",
    "                        print 'Sorry, the entered ID is already used.'\n",
    "                    else:\n",
    "                        count+=1\n",
    "                        if count==len(tmp):\n",
    "                            isdone=1\n",
    "                            break\n",
    "            else:\n",
    "                break\n",
    "            if(isdone):\n",
    "                break\n",
    "        in2=raw_input(\"password\")\n",
    "        in3='['+raw_input(\"name\")+'], '\n",
    "        in4='['+raw_input(\"school\")+']\\n'\n",
    "        f=file('access.txt','a')\n",
    "        f.write('['+in1+']: ')\n",
    "        f.write('['+sha.new(in2).hexdigest()+'], ')\n",
    "        f.write(in3)\n",
    "        f.write(in4)\n",
    "        f.close()\n",
    "    elif(userinput=='2'):\n",
    "        f=file('access.txt','r')\n",
    "        tmp=f.readlines()\n",
    "        f.close()\n",
    "        while(1):\n",
    "            isend=0\n",
    "            if tmp!=[]:\n",
    "                in1=raw_input(\"id\")\n",
    "                count=0\n",
    "                for i in tmp:\n",
    "                    key=''\n",
    "                    for j in i:\n",
    "                        if j!='[' and j!=']' and j!=',' and j!=':':\n",
    "                            key+=j\n",
    "                    key=key.split()\n",
    "                    if(key[0]==in1):\n",
    "                        while(1):\n",
    "                            in2=raw_input(\"password\")\n",
    "                            if(key[1]==sha.new(in2).hexdigest()):\n",
    "                                print 'Hello '+key[2]\n",
    "                                isend=1\n",
    "                            else:\n",
    "                                print 'Sorry, the entered password is not correct.'\n",
    "                            if(isend):\n",
    "                                break\n",
    "                    else:\n",
    "                        count+=1\n",
    "                        if count==len(tmp):\n",
    "                            print 'Sorry, you are not a registered member.'\n",
    "            else:\n",
    "                break\n",
    "            if(isend):\n",
    "                break\n",
    "    elif(userinput=='3'):\n",
    "        break"
   ]
  },
  {
   "cell_type": "markdown",
   "metadata": {},
   "source": [
    "#####while문을 이용하여 전제 내용을 무한 반복하도록 하였고, 1번 메뉴 선택 시 id를 먼저 입력받아 중복 검사를 하고 중복된 id가 아닐 경우에만 나머지 내용을 추가로 입력받도록 하였고,  2번의 경우에는 id와 password를 입력 받아 두가지가 일치하는 라인을 찾아 그 라인의 이름을 출력해 주도록 하였다. 1,2번 모두 파일을 읽어올 때 1줄 씩 읽어와 리스트 형식으로 만드는 readlines를 이용하였고, 읽어들인 문장들을 split을 이용해 id pw name school 로 나누어 구분하여 진행하였다."
   ]
  },
  {
   "cell_type": "markdown",
   "metadata": {},
   "source": [
    "#####3. range() 함수와 유사한 frange() 함수를 다음 조건을 참고하여 만드시오."
   ]
  },
  {
   "cell_type": "code",
   "execution_count": 2,
   "metadata": {
    "collapsed": false,
    "scrolled": false
   },
   "outputs": [
    {
     "name": "stdout",
     "output_type": "stream",
     "text": [
      "[0.0, 0.1, 0.2, 0.3, 0.4]\n",
      "[1.0, 1.1, 1.2, 1.3, 1.4, 1.5, 1.6, 1.7, 1.8, 1.9]\n",
      "[2.2, 2.7, 3.2, 3.7]\n"
     ]
    }
   ],
   "source": [
    "def frange(*args):\n",
    "    if len(args)==1:\n",
    "        i=0.0\n",
    "        tmp=[]\n",
    "        while(i<args[0]):\n",
    "            tmp.append(float(\"%.1f\"%i))\n",
    "            i+=0.1\n",
    "        return tmp\n",
    "    elif len(args)==2:\n",
    "        i=args[0]\n",
    "        tmp=[]\n",
    "        while(i<args[1]):\n",
    "            tmp.append(float(\"%.1f\"%i))\n",
    "            i+=0.1\n",
    "        return tmp\n",
    "    elif len(args)==3:\n",
    "        i=args[0]\n",
    "        tmp=[]\n",
    "        while(i<args[1]):\n",
    "            tmp.append(float(\"%.1f\"%i))\n",
    "            i+=args[2]\n",
    "        return tmp\n",
    "print frange(0.5)\n",
    "print frange(1.0,2.0)\n",
    "print frange(2.2,4.0,0.5)"
   ]
  },
  {
   "cell_type": "markdown",
   "metadata": {},
   "source": [
    "#####python에서 클래스 이외의 방법으로 함수를 중복정의 할 방법을 찾을 수 없어서, 인자값을 가변인수로 받아와 인자값의 수에 따라 다른 if문에 들어가 각각 인자 값에 알맞는 동작을 하도록 하였다."
   ]
  },
  {
   "cell_type": "markdown",
   "metadata": {},
   "source": [
    "#####4. 가변인수를 받는 함수 sum()을 다음과 같은 조건을 참고하여 구현하시오"
   ]
  },
  {
   "cell_type": "code",
   "execution_count": 11,
   "metadata": {
    "collapsed": false
   },
   "outputs": [
    {
     "name": "stdout",
     "output_type": "stream",
     "text": [
      "0\n",
      "3\n",
      "15\n",
      "5\n"
     ]
    }
   ],
   "source": [
    "def sum(*arg):\n",
    "    tmp=0\n",
    "    for i in arg:\n",
    "        tmp+=i\n",
    "    return tmp\n",
    "print sum()\n",
    "print sum(1,2)\n",
    "print sum(1,2,3,4,5)\n",
    "print sum(1,5,7,2,-10)"
   ]
  },
  {
   "cell_type": "markdown",
   "metadata": {},
   "source": [
    "#####가변 인수로 값을 받아온 뒤 함수 내에서 가변 인수에 대한 for문을 사용해 모든 값의 합을 직접 구한 뒤 그 합인 tmp를 return해 주었다."
   ]
  },
  {
   "cell_type": "markdown",
   "metadata": {},
   "source": [
    "#####5. 여러 단어로 이루어진 문자열을 입력받아 각 단어의 첫글자로 이루어진 단어를 대문자로 출력하는 myinitial() 함수를 다음 조건을 참고하여 작성하시오."
   ]
  },
  {
   "cell_type": "code",
   "execution_count": 24,
   "metadata": {
    "collapsed": false
   },
   "outputs": [
    {
     "name": "stdout",
     "output_type": "stream",
     "text": [
      "ASAP\n"
     ]
    }
   ],
   "source": [
    "def myinitial(s):\n",
    "    tmp=s.split()\n",
    "    key=map(lambda x: x[0].upper(),tmp)\n",
    "    result=''.join(key)\n",
    "    return result\n",
    "print myinitial(\"as soon as possible\")"
   ]
  },
  {
   "cell_type": "markdown",
   "metadata": {},
   "source": [
    "#####문장를 받아온 뒤 split을 이용하여 단어 단위로 쪼갠 뒤, map과 lambda함수를 이용하여 각 단어의 첫 알파벳만 대문자로 변환하여 key에 리스트 형태로 저장해 주었다. 이후 join을 이용하여 빈 틈 없이 붙인 뒤 새로 만들어진 result를 return해 주었다."
   ]
  },
  {
   "cell_type": "markdown",
   "metadata": {},
   "source": [
    "#####6. 음이 아닌 정수 n를 입력받으면 n! (factorial)을 계산하는 myfact() 함수를 재귀적 함수로 구현하시오. "
   ]
  },
  {
   "cell_type": "code",
   "execution_count": 4,
   "metadata": {
    "collapsed": false,
    "scrolled": true
   },
   "outputs": [
    {
     "name": "stdout",
     "output_type": "stream",
     "text": [
      "None\n",
      "None\n",
      "None\n",
      "1220136825991110068701238785423046926253574342803192842192413588385845373153881997605496447502203281863013616477148203584163378722078177200480785205159329285477907571939330603772960859086270429174547882424912726344305670173270769461062802310452644218878789465754777149863494367781037644274033827365397471386477878495438489595537537990423241061271326984327745715546309977202781014561081188373709531016356324432987029563896628911658974769572087926928871281780070265174507768410719624390394322536422605234945850129918571501248706961568141625359056693423813008856249246891564126775654481886506593847951775360894005745238940335798476363944905313062323749066445048824665075946735862074637925184200459369692981022263971952597190945217823331756934581508552332820762820023402626907898342451712006207714640979456116127629145951237229913340169552363850942885592018727433795173014586357570828355780158735432768888680120399882384702151467605445407663535984174430480128938313896881639487469658817504506926365338175055478128640000000000000000000000000000000000000000000000000000000000000000000000000000000000000000000000000000000000000000000000000000\n"
     ]
    }
   ],
   "source": [
    "def myfact(n):\n",
    "    if(int(n)>=0 and type(n)==int):\n",
    "        if n==0:\n",
    "            return 1\n",
    "        else:\n",
    "            return n*myfact(n-1)\n",
    "print myfact(-10)\n",
    "print myfact(1.1)\n",
    "print myfact(5.0)\n",
    "print myfact(500)"
   ]
  },
  {
   "cell_type": "markdown",
   "metadata": {},
   "source": [
    "#####함수에 인자값을 보내주면, if문을 이용하여 0보다 큰지, type이 int인지 확인하여 맞을 경우에만 함수가 동작하도록 하였다. 함수 내용은 만약 n의 값이 1이면 1을 반환하고 아니면 n*myfact(n-1)을 반환하여 1을 만나는 순간 return값이 튀어나오도록 하였다."
   ]
  },
  {
   "cell_type": "markdown",
   "metadata": {},
   "source": [
    "#####7. (서술형) import string 과 from string import * 의 차이점을 설명하시오."
   ]
  },
  {
   "cell_type": "markdown",
   "metadata": {
    "collapsed": true
   },
   "source": [
    "#####import는 이름공간 string이 그대로 유지되어 string.함수명()의 형태로 내부 함수에 접근이 가능하고, from import는 해당 모듈에 존재하는 지정 이름들을 현재 이름 공간으로 불러들여 모듈 이름 없이 함수() 만을 이용하여 사용이 가능하다."
   ]
  },
  {
   "cell_type": "markdown",
   "metadata": {},
   "source": [
    "#####8. 10 이하의 소수를 모두 더하면 2 + 3 + 5 + 7 = 17 이 됩니다.\n",
    "\n",
    "#####이백만(2,000,000) 이하 소수의 합은 얼마입니까?"
   ]
  },
  {
   "cell_type": "code",
   "execution_count": 2,
   "metadata": {
    "collapsed": false
   },
   "outputs": [
    {
     "name": "stdout",
     "output_type": "stream",
     "text": [
      "142913828922\n"
     ]
    }
   ],
   "source": [
    "a=[]\n",
    "sum=0\n",
    "for i in range(2000000):\n",
    "    a.append(0)\n",
    "a[0]=1\n",
    "a[1]=1\n",
    "for i in range(2,2000000):\n",
    "    j=2\n",
    "    while(i*j<2000000):\n",
    "        a[i*j]=1\n",
    "        j+=1\n",
    "for i in range(2000000):\n",
    "    if(a[i]==0):\n",
    "        sum+=i\n",
    "print sum"
   ]
  },
  {
   "cell_type": "markdown",
   "metadata": {},
   "source": [
    "#####먼저 200만개의 방을 가진 리스트를 만들어 모든 값을 0으로 초기화 하였다. 이후 0과 1에 해당하는 0,1번 방을 1로 맞춘 뒤 for문과 while문을 이용하여 모든 소수가 아닌 방을 1로 만들었다. 그런 뒤 또 다시 for문을 사용해 모든 리스트 안의 값을 검사해 만약 그 방의 값이 0이면 sum에 그 방 번호의 값을 더해주었다."
   ]
  },
  {
   "cell_type": "markdown",
   "metadata": {},
   "source": [
    "#####9. 아래와 같은 20×20 격자가 있습니다.\n",
    "#####위에서 대각선 방향으로 연속된 붉은 숫자 네 개의 곱은 26 × 63 × 78 × 14 = 1788696 입니다.\n",
    "\n",
    "#####그러면 수평, 수직, 또는 대각선 방향으로 연속된 숫자 네 개의 곱 중 최대값은 얼마입니까?"
   ]
  },
  {
   "cell_type": "code",
   "execution_count": 46,
   "metadata": {
    "collapsed": false
   },
   "outputs": [
    {
     "name": "stdout",
     "output_type": "stream",
     "text": [
      "70600674\n"
     ]
    }
   ],
   "source": [
    "board=[]\n",
    "for x in range(0, 20):\n",
    "    board.append([0] * 20)\n",
    "f=open(\"keyfor11.txt\")\n",
    "save=f.read().split()\n",
    "f.close()\n",
    "max=0\n",
    "num=0\n",
    "for j in range(0,20):\n",
    "    for k in range(0,20):\n",
    "        board[j][k]=int(save[num])\n",
    "        num+=1\n",
    "for i in range(20):\n",
    "    for j in range(17):\n",
    "        if(max<=board[i][j]*board[i][j+1]*board[i][j+2]*board[i][j+3]):\n",
    "            max=board[i][j]*board[i][j+1]*board[i][j+2]*board[i][j+3]\n",
    "for i in range(17):\n",
    "    for j in range(20):\n",
    "        if(max<=board[i][j]*board[i+1][j]*board[i+2][j]*board[i+3][j]):\n",
    "            max=board[i][j]*board[i+1][j]*board[i+2][j]*board[i+3][j]\n",
    "for i in range(17):\n",
    "    for j in range(17):\n",
    "        if(max<=board[i][j]*board[i+1][j+1]*board[i+2][j+2]*board[i+3][j+3]):\n",
    "            max=board[i][j]*board[i+1][j+1]*board[i+2][j+2]*board[i+3][j+3]\n",
    "for i in range(17):\n",
    "    for j in range(3,20):\n",
    "        if(max<=board[i][j]*board[i+1][j-1]*board[i+2][j-2]*board[i+3][j-3]):\n",
    "            max=board[i][j]*board[i+1][j-1]*board[i+2][j-2]*board[i+3][j-3]\n",
    "print max\n"
   ]
  },
  {
   "cell_type": "markdown",
   "metadata": {
    "collapsed": true
   },
   "source": [
    "#####파일 입출력을 이용하여 20x20을 받아온 뒤 가로 세로 2가지 대각선의 경우에 대하여 4개 씩 묶어서 값을 계산하여 만약 그 값이 max보다 크다면 그 값을 max로 만들어 주었다. 이렇게 4가지 경우에 대하여 모두 검사한 뒤 max값을 출력하여 주었다."
   ]
  },
  {
   "cell_type": "markdown",
   "metadata": {},
   "source": [
    "#####10. 1부터 n까지의 자연수를 차례로 더하여 구해진 값을 삼각수라고 합니다.\n",
    "#####예를 들어 7번째 삼각수는 1 + 2 + 3 + 4 + 5 + 6 + 7 = 28이 됩니다.\n",
    "#####이런 식으로 삼각수를 구해 나가면 다음과 같습니다.\n",
    "#####1, 3, 6, 10, 15, 21, 28, 36, 45, 55, ...\n",
    "#####그러면 500개 이상의 약수를 갖는 가장 작은 삼각수는 얼마입니까?"
   ]
  },
  {
   "cell_type": "code",
   "execution_count": 45,
   "metadata": {
    "collapsed": false,
    "scrolled": true
   },
   "outputs": [
    {
     "name": "stdout",
     "output_type": "stream",
     "text": [
      "76576500\n"
     ]
    }
   ],
   "source": [
    "count=1\n",
    "start=2\n",
    "prime=[]\n",
    "now=1\n",
    "max=0\n",
    "while(count!=1000):\n",
    "    num=0\n",
    "    for i in range(2,start+1):\n",
    "        if(start%i==0):\n",
    "            num+=1\n",
    "            if(num>1):\n",
    "                start+=1\n",
    "                break\n",
    "    if(num==1):\n",
    "        prime.append(start)\n",
    "        start+=1\n",
    "        count+=1\n",
    "while(1):\n",
    "    save=[]\n",
    "    result=1\n",
    "    key=(now*(now+1))/2\n",
    "    for i in prime:\n",
    "        count=1\n",
    "        while(key%i==0):\n",
    "            key/=i\n",
    "            count+=1;\n",
    "        result*=count\n",
    "    if(max<result):\n",
    "        max=result\n",
    "    if(result<500):\n",
    "        now+=1\n",
    "    else:\n",
    "        print (now*(now+1))/2\n",
    "        break"
   ]
  },
  {
   "cell_type": "markdown",
   "metadata": {
    "collapsed": true
   },
   "source": [
    "#####먼저 시작 전에 1000개의 소수를 구하여 리스트에 저장해 두었다. 그리고 1부터 n까지의 합은 N*(N-1)/2인점을 이용하여 삼각수를 구하여 key에 저장해 두고, 그 key값에 대하여 소인수 분해를 이용하여 약수의 갯수를 result에 저장하여 이 값이 500을 넘어가면 N*(N-1)/2값을 출력하여 그 삼각수가 몇인지 나타내도록 하였다."
   ]
  },
  {
   "cell_type": "markdown",
   "metadata": {},
   "source": [
    "#####11. 아래에 50자리 숫자가 100개 있습니다. 이것을 모두 더한 값의 첫 10자리는 얼마입니까?"
   ]
  },
  {
   "cell_type": "code",
   "execution_count": 5,
   "metadata": {
    "collapsed": false
   },
   "outputs": [
    {
     "name": "stdout",
     "output_type": "stream",
     "text": [
      "5537376230\n"
     ]
    }
   ],
   "source": [
    "a=[37107287533902102798797998220837590246510135740250,\n",
    "46376937677490009712648124896970078050417018260538,\n",
    "74324986199524741059474233309513058123726617309629,\n",
    "91942213363574161572522430563301811072406154908250,\n",
    "23067588207539346171171980310421047513778063246676,\n",
    "89261670696623633820136378418383684178734361726757,\n",
    "28112879812849979408065481931592621691275889832738,\n",
    "44274228917432520321923589422876796487670272189318,\n",
    "47451445736001306439091167216856844588711603153276,\n",
    "70386486105843025439939619828917593665686757934951,\n",
    "62176457141856560629502157223196586755079324193331,\n",
    "64906352462741904929101432445813822663347944758178,\n",
    "92575867718337217661963751590579239728245598838407,\n",
    "58203565325359399008402633568948830189458628227828,\n",
    "80181199384826282014278194139940567587151170094390,\n",
    "35398664372827112653829987240784473053190104293586,\n",
    "86515506006295864861532075273371959191420517255829,\n",
    "71693888707715466499115593487603532921714970056938,\n",
    "54370070576826684624621495650076471787294438377604,\n",
    "53282654108756828443191190634694037855217779295145,\n",
    "36123272525000296071075082563815656710885258350721,\n",
    "45876576172410976447339110607218265236877223636045,\n",
    "17423706905851860660448207621209813287860733969412,\n",
    "81142660418086830619328460811191061556940512689692,\n",
    "51934325451728388641918047049293215058642563049483,\n",
    "62467221648435076201727918039944693004732956340691,\n",
    "15732444386908125794514089057706229429197107928209,\n",
    "55037687525678773091862540744969844508330393682126,\n",
    "18336384825330154686196124348767681297534375946515,\n",
    "80386287592878490201521685554828717201219257766954,\n",
    "78182833757993103614740356856449095527097864797581,\n",
    "16726320100436897842553539920931837441497806860984,\n",
    "48403098129077791799088218795327364475675590848030,\n",
    "87086987551392711854517078544161852424320693150332,\n",
    "59959406895756536782107074926966537676326235447210,\n",
    "69793950679652694742597709739166693763042633987085,\n",
    "41052684708299085211399427365734116182760315001271,\n",
    "65378607361501080857009149939512557028198746004375,\n",
    "35829035317434717326932123578154982629742552737307,\n",
    "94953759765105305946966067683156574377167401875275,\n",
    "88902802571733229619176668713819931811048770190271,\n",
    "25267680276078003013678680992525463401061632866526,\n",
    "36270218540497705585629946580636237993140746255962,\n",
    "24074486908231174977792365466257246923322810917141,\n",
    "91430288197103288597806669760892938638285025333403,\n",
    "34413065578016127815921815005561868836468420090470,\n",
    "23053081172816430487623791969842487255036638784583,\n",
    "11487696932154902810424020138335124462181441773470,\n",
    "63783299490636259666498587618221225225512486764533,\n",
    "67720186971698544312419572409913959008952310058822,\n",
    "95548255300263520781532296796249481641953868218774,\n",
    "76085327132285723110424803456124867697064507995236,\n",
    "37774242535411291684276865538926205024910326572967,\n",
    "23701913275725675285653248258265463092207058596522,\n",
    "29798860272258331913126375147341994889534765745501,\n",
    "18495701454879288984856827726077713721403798879715,\n",
    "38298203783031473527721580348144513491373226651381,\n",
    "34829543829199918180278916522431027392251122869539,\n",
    "40957953066405232632538044100059654939159879593635,\n",
    "29746152185502371307642255121183693803580388584903,\n",
    "41698116222072977186158236678424689157993532961922,\n",
    "62467957194401269043877107275048102390895523597457,\n",
    "23189706772547915061505504953922979530901129967519,\n",
    "86188088225875314529584099251203829009407770775672,\n",
    "11306739708304724483816533873502340845647058077308,\n",
    "82959174767140363198008187129011875491310547126581,\n",
    "97623331044818386269515456334926366572897563400500,\n",
    "42846280183517070527831839425882145521227251250327,\n",
    "55121603546981200581762165212827652751691296897789,\n",
    "32238195734329339946437501907836945765883352399886,\n",
    "75506164965184775180738168837861091527357929701337,\n",
    "62177842752192623401942399639168044983993173312731,\n",
    "32924185707147349566916674687634660915035914677504,\n",
    "99518671430235219628894890102423325116913619626622,\n",
    "73267460800591547471830798392868535206946944540724,\n",
    "76841822524674417161514036427982273348055556214818,\n",
    "97142617910342598647204516893989422179826088076852,\n",
    "87783646182799346313767754307809363333018982642090,\n",
    "10848802521674670883215120185883543223812876952786,\n",
    "71329612474782464538636993009049310363619763878039,\n",
    "62184073572399794223406235393808339651327408011116,\n",
    "66627891981488087797941876876144230030984490851411,\n",
    "60661826293682836764744779239180335110989069790714,\n",
    "85786944089552990653640447425576083659976645795096,\n",
    "66024396409905389607120198219976047599490197230297,\n",
    "64913982680032973156037120041377903785566085089252,\n",
    "16730939319872750275468906903707539413042652315011,\n",
    "94809377245048795150954100921645863754710598436791,\n",
    "78639167021187492431995700641917969777599028300699,\n",
    "15368713711936614952811305876380278410754449733078,\n",
    "40789923115535562561142322423255033685442488917353,\n",
    "44889911501440648020369068063960672322193204149535,\n",
    "41503128880339536053299340368006977710650566631954,\n",
    "81234880673210146739058568557934581403627822703280,\n",
    "82616570773948327592232845941706525094512325230608,\n",
    "22918802058777319719839450180888072429661980811197,\n",
    "77158542502016545090413245809786882778948721859617,\n",
    "72107838435069186155435662884062257473692284509516,\n",
    "20849603980134001723930671666823555245252804609722,\n",
    "53503534226472524250874054075591789781264330331690]\n",
    "tmp=0\n",
    "for i in a:\n",
    "    tmp+=int(i)\n",
    "print str(tmp)[0:10]"
   ]
  },
  {
   "cell_type": "markdown",
   "metadata": {
    "collapsed": true
   },
   "source": [
    "#####for문을 이용하여 a안에 저장된 모든 수들의 합을 먼저 구하였고, 이후에 그 총 합을 str로 변환한 뒤 앞의 10자리만 슬라이싱을 이용하여 잘라 출력하였다."
   ]
  },
  {
   "cell_type": "markdown",
   "metadata": {},
   "source": [
    "#####12. 양의 정수 n에 대하여, 다음과 같은 계산 과정을 반복하기로 합니다.\n",
    "#####n → n / 2 (n이 짝수일 때)\n",
    "#####n → 3 n + 1 (n이 홀수일 때)\n",
    "#####백만(1,000,000) 이하의 수로 시작했을 때 1까지 도달하는데 가장 긴 과정을 거치는 숫자는 얼마입니까?"
   ]
  },
  {
   "cell_type": "code",
   "execution_count": 40,
   "metadata": {
    "collapsed": false
   },
   "outputs": [
    {
     "name": "stdout",
     "output_type": "stream",
     "text": [
      "837799\n"
     ]
    }
   ],
   "source": [
    "num=1\n",
    "max=0\n",
    "maxnum=0\n",
    "while(num<=1000000):\n",
    "    calc=num\n",
    "    count=0\n",
    "    while(calc!=1):\n",
    "        if(calc%2==0):\n",
    "            calc/=2\n",
    "            count+=1\n",
    "        else:\n",
    "            calc=3*calc+1\n",
    "            count+=1\n",
    "    if(max<count):\n",
    "        max=count\n",
    "        maxnum=num\n",
    "    num+=1\n",
    "print maxnum"
   ]
  },
  {
   "cell_type": "markdown",
   "metadata": {
    "collapsed": true
   },
   "source": [
    "#####백만 이하까지 while문을 반복하여 홀수와 짝수에 대하여 주어진 2가지 경우(n → n / 2 (n이 짝수일 때), n → 3 n + 1 (n이 홀수일 때))를 통하여 max값을 직접 반복하여 구하고 큰 값이 나오면 max를 그 값으로 바꾸어 주었다. "
   ]
  },
  {
   "cell_type": "markdown",
   "metadata": {},
   "source": [
    "#####13. 아래와 같은 2 × 2 격자의 왼쪽 위 모서리에서 출발하여 오른쪽 아래 모서리까지 도달하는 길은 모두 6가지가 있습니다 (거슬러 가지는 않기로 합니다).\n",
    "#####그러면 20 × 20 격자에는 모두 몇 개의 경로가 있습니까?"
   ]
  },
  {
   "cell_type": "code",
   "execution_count": 41,
   "metadata": {
    "collapsed": false
   },
   "outputs": [
    {
     "name": "stdout",
     "output_type": "stream",
     "text": [
      "137846528820\n"
     ]
    }
   ],
   "source": [
    "board=[]\n",
    "for x in range(0, 21):\n",
    "    board.append([0] * 21)\n",
    "for i in range(21):\n",
    "    board[i][0]=1\n",
    "for i in range(21):\n",
    "    board[0][i]=1\n",
    "for i in range(1,21):\n",
    "    for j in range(1,21):\n",
    "        board[i][j]=board[i-1][j]+board[i][j-1]\n",
    "print board[20][20]"
   ]
  },
  {
   "cell_type": "markdown",
   "metadata": {},
   "source": [
    "#####아이디어를 찾지 못하면 어렵지만 감만 잡으면 쉽게 해결할 수 있는 문제였다. 중, 고등학교 때 수학시간에 이와 같은 것을 다루었는데, 인접한 칸들 까지 걸린 길이의 합이 시작점부터 자기 자신 까지 올 수 있는 경로의 수이다. 이를 이용하여 맨 윗줄부터 시작하여 위, 왼쪽의 경로의 수의 합을 현재 위치의 경로의 수로 만들어 답을 구하였다."
   ]
  },
  {
   "cell_type": "markdown",
   "metadata": {},
   "source": [
    "#####13. 이전 Assignment 3의 마지막 문제는 웹 URL로 지정된 웹페이지를 문자열로 가져와 모든 HTML 태그 및 CSS와 Javascript를 제외한 순수 텍스트를 얻어내고 그 안에 존재하는 단어를 추출하여 각 단어들에 대해 출현빈도를 사전형태({'world': 2, 'hello': 1, 'python': 1})로 저장하여 출력하는 것이었다. 이번에는 Assignment 3를 확장하여 다음과 같은 조건을 만족하도록 구현하시오."
   ]
  },
  {
   "cell_type": "code",
   "execution_count": 1,
   "metadata": {
    "collapsed": false
   },
   "outputs": [
    {
     "name": "stdout",
     "output_type": "stream",
     "text": [
      "[('n', 16384), ('0', 3446), ('malfpad', 2916)]\n"
     ]
    }
   ],
   "source": [
    "import urllib2\n",
    "import string\n",
    "import pickle\n",
    "\n",
    "wordsmostfreq={}\n",
    "\n",
    "def urlchecker(a):\n",
    "    save=\"\"\n",
    "    maxnum=0\n",
    "    count=0\n",
    "    key1=[]\n",
    "    val=[]\n",
    "    source = urllib2.urlopen(a).read()\n",
    "    filename=a[7:]+'.html'\n",
    "    f=open(filename,\"w\")\n",
    "    f.write(source)\n",
    "    f.close()\n",
    "    i=0\n",
    "    while(i<len(source)):\n",
    "        if(source[i]=='<'):\n",
    "            while(1):\n",
    "                i+=1\n",
    "                if(source[i]=='>'):\n",
    "                    i+=1\n",
    "                    break\n",
    "        else:\n",
    "            save+=source[i]\n",
    "            i+=1\n",
    "    l=string.punctuation\n",
    "    key1=save.split()\n",
    "    dellist=[ 'a', 'and', 'are', 'as', 'at', 'be', 'but', 'by', 'for', 'if', 'in', 'into', 'is', 'it', 'no', 'not', 'of', 'on', 'or', 's', 'such', 't', 'that', 'the', 'their', 'then', 'there', 'these', 'they', 'this', 'to', 'was', 'will', 'with']\n",
    "    for i in range(len(key1)):\n",
    "        for j in l:\n",
    "            key1[i]=key1[i].replace(j,'')\n",
    "    for c in dellist:\n",
    "        for i in range(key1.count(c)):\n",
    "            key1.remove(c)\n",
    "    for i in range(key1.count('')):\n",
    "        key1.remove('')\n",
    "            \n",
    "    for i in key1:\n",
    "        val.append(key1.count(i))\n",
    "    i=0\n",
    "    dict1=zip(key1,val)\n",
    "    filename=a[7:]+'.words.frequency'\n",
    "    f = open(filename, 'w')\n",
    "    pickle.dump(dict1,f)\n",
    "    f.close()\n",
    "    f = open(filename)\n",
    "    t = pickle.load(f)\n",
    "    for name,value in t:\n",
    "        if name in wordsmostfreq:\n",
    "            wordsmostfreq[name]+=value\n",
    "        else:\n",
    "            wordsmostfreq[name]=value\n",
    "    \n",
    "urlchecker(\"http://www.google.com\")\n",
    "urlchecker(\"http://www.github.com\")\n",
    "urlchecker(\"http://www.yahoo.com\")\n",
    "urlchecker(\"http://www.bing.com\")\n",
    "urlchecker(\"http://www.nytimes.com\")\n",
    "threetop=[0,0,0]\n",
    "mostvalue=list(wordsmostfreq.values())\n",
    "mostvalue.sort()\n",
    "for name in wordsmostfreq.keys():\n",
    "    if wordsmostfreq[name]==mostvalue[len(mostvalue)-1]:\n",
    "        threetop[0]=(name,mostvalue[len(mostvalue)-1])\n",
    "    if wordsmostfreq[name]==mostvalue[len(mostvalue)-2]:\n",
    "        threetop[1]=(name,mostvalue[len(mostvalue)-2])\n",
    "    if wordsmostfreq[name]==mostvalue[len(mostvalue)-3]:\n",
    "        threetop[2]=(name,mostvalue[len(mostvalue)-3])\n",
    "print threetop\n"
   ]
  },
  {
   "cell_type": "markdown",
   "metadata": {},
   "source": [
    "#####저번에 구현하였던 코드에 맨 먼저 홈페이지의 코드를 .html로 따로 저장한 뒤 dellist에 들어있는 값들을 remove하는 for문을 하나 추가하여 불용어를 먼저 제거하였고, 단어와 출현 횟수를 사전으로 zip하여 pickle로 따로 저장 해 주었다. 이후 그것을 다시 pickle.load로 불러와 전역변수로 선언되어있는 사전에 이름과 값을 계속 더해주었고, 맨 마지막에 가장 큰 값을 3개 찾아서 단어와 출현 횟수를 출력해주었다."
   ]
  },
  {
   "cell_type": "markdown",
   "metadata": {},
   "source": [
    "#####파일 입출력을 하는데에 있어서 미숙한 부분이 많아서 저번 과제들에 비해서 더 오래걸리고 더 힘들었던 것 같다. 특히 마지막 문제에서 문제를 제대로 읽지 않아서 url에서 //을 지워야 하는데, 그 부분을 처리하지 않아서 IOError가 계속 발생하여 이 부분에서 특히 많이 헤맷던 것 같다. 이외에도 pickle도 익숙치 못하여 파일로 만들고 다시 읽어들이는 부분도 어려움이 많았다.  그래도 잘 쓰지 않던 것들을 사용해서 그런지 복습하는 느낌이 들고 공부가 되었던 것 같다. 앞으로는 깊게 배우지 않고 넘어갔던 것들도 다시 한 번 공부해 봐야겠다는 생각이 들었다."
   ]
  }
 ],
 "metadata": {
  "kernelspec": {
   "display_name": "Python 2",
   "language": "python",
   "name": "python2"
  },
  "language_info": {
   "codemirror_mode": {
    "name": "ipython",
    "version": 2
   },
   "file_extension": ".py",
   "mimetype": "text/x-python",
   "name": "python",
   "nbconvert_exporter": "python",
   "pygments_lexer": "ipython2",
   "version": "2.7.9"
  }
 },
 "nbformat": 4,
 "nbformat_minor": 0
}

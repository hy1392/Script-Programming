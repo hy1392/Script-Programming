{
 "cells": [
  {
   "cell_type": "markdown",
   "metadata": {},
   "source": [
    "##스크립트 프로그래밍 과제2\n",
    "#####2014136032 김현국"
   ]
  },
  {
   "cell_type": "markdown",
   "metadata": {},
   "source": [
    "#####1번\n",
    "#####•다음 6 개의 Expression에 대해 Evaluation 결과 값을 출력하고, 해당 결과가 나온 이유에 대해 설명하시오"
   ]
  },
  {
   "cell_type": "code",
   "execution_count": 21,
   "metadata": {
    "collapsed": false
   },
   "outputs": [
    {
     "name": "stdout",
     "output_type": "stream",
     "text": [
      "4\n",
      "1\n",
      "2\n",
      "2\n",
      "1\n",
      "3\n"
     ]
    }
   ],
   "source": [
    "print 1 and 2 and 3 and 4\n",
    "print 1 or 2 or 3 or 4\n",
    "print 1 and 2 or 3 and 4\n",
    "print (1 and 2) or (3 and 4)\n",
    "print 1 or 2 and 3 or 4\n",
    "print (1 or 2) and (3 or 4)"
   ]
  },
  {
   "cell_type": "markdown",
   "metadata": {
    "collapsed": true
   },
   "source": [
    "#####1. x and y 평가에 있어서, x가 거짓으로 판명되면 그것을 반환하고, 그렇지 않은 경우에는 y를 평가하여 결과값을 반환한다. 0이 아닌 모든 수는 참이므로 1 and 2는 2가되고, 2 and 3은 3, 3 and 4는 4가 되어 4가 출력된다.\n",
    "#####2.  x or y 평가에 있어서, x가 참으로 판명되면 그것을 반환하고, 그렇지 않은 경우에는 y를 평가하여 결과값을 반환한다. 0이 아닌 모든 수는 참이므로 1 or 2는 1 이므로 뒤쪽 값에 상관 없이 1이 출력된다.\n",
    "#####3. 1, 2번을 토대로 1 and 2는 2, 2 or 3은 2이므로 뒤쪽 값에 상관 없이 2이 출력된다.\n",
    "#####4. 1 and 2는 2, 3 and 4는 4이고 2 or 4는 2 이므로 2가 출력된다.\n",
    "#####5. 1 or 2는 1이므로 뒤쪽 값에 상관 없이 1이 출력된다.\n",
    "######6. 1 or 2는 1, 3 or 4는 3 이고 1 and 3은 3이므로 3이 출력된다."
   ]
  },
  {
   "cell_type": "markdown",
   "metadata": {},
   "source": [
    "#####2번\n",
    "#####•키보드로 정수값을 입력 받고 그 값이 양수인지 음수인지를 비트 연산자를 이용하여 판단하는 프로그램을 작성하시오."
   ]
  },
  {
   "cell_type": "code",
   "execution_count": 14,
   "metadata": {
    "collapsed": false
   },
   "outputs": [
    {
     "name": "stdout",
     "output_type": "stream",
     "text": [
      "1004\n",
      "양수 0b1111101100\n"
     ]
    }
   ],
   "source": [
    "getbinary=bin(int(raw_input()))\n",
    "if(getbinary[0]=='0'):\n",
    "    print \"양수\",getbinary\n",
    "else:\n",
    "    print \"음수\",getbinary"
   ]
  },
  {
   "cell_type": "markdown",
   "metadata": {
    "collapsed": true
   },
   "source": [
    "#####사용자로 부터 입력받은 값을 int형으로 변환한 뒤 다시 2진수의 형태로 바꾸어 getbinary에 저장하였고, getbinary가 str임을 이용해 getbinary[0]의 값을 이용하여 입력받은 숫자가 양인지, 음인지 판별하고 출력하였다."
   ]
  },
  {
   "cell_type": "markdown",
   "metadata": {},
   "source": [
    "#####3번\n",
    "#####•경로에 해당하는 문자열 1개를 입력 받아 그 안에 디렉토리 경로명과 파일명을 분리하여 리스트로 반환하는 함수 div_path(s)를 작성하시오"
   ]
  },
  {
   "cell_type": "code",
   "execution_count": 16,
   "metadata": {
    "collapsed": false
   },
   "outputs": [
    {
     "name": "stdout",
     "output_type": "stream",
     "text": [
      "['/usr/local/bin', 'python']\n",
      "['/home/chulsoo', 'test.txt']\n"
     ]
    }
   ],
   "source": [
    "def div_path(s):\n",
    "    max=0\n",
    "    a=s.count('/')\n",
    "    b=s.find('/')\n",
    "    while(a>0):\n",
    "        b=s.find('/',max+1)\n",
    "        if(max<b):\n",
    "            max=b\n",
    "        a-=1\n",
    "    save=[]\n",
    "    save.append(s[0:max])\n",
    "    save.append(s[max+1:len(s)])\n",
    "    return save\n",
    "print div_path('/usr/local/bin/python')\n",
    "print div_path('/home/chulsoo/test.txt')"
   ]
  },
  {
   "cell_type": "markdown",
   "metadata": {
    "collapsed": true
   },
   "source": [
    "#####인자로 넘겨받은 문자열의 '/'수를 세어 마지막 '/'을 찾을 때 까지 반복문을 돌려 마지막 '/'의 위치를 max에 저장하였고 이 값을 토대로 슬라이싱을 통하여 배열에 값을 경로와 파일명으로 나누어 넣었다"
   ]
  },
  {
   "cell_type": "markdown",
   "metadata": {},
   "source": [
    "#####4번\n",
    "#####•두 개의 리스트를 인자로 받아서 그 두 개의 리스트에 대한 '합집합'을 반환하는 함수 list_union(lista, listb)를 작성하시오."
   ]
  },
  {
   "cell_type": "code",
   "execution_count": 19,
   "metadata": {
    "collapsed": false
   },
   "outputs": [
    {
     "name": "stdout",
     "output_type": "stream",
     "text": [
      "[1, 2, 3, 4]\n",
      "[-10, -5, -1, 0, 9, 100]\n",
      "[0, 1, 2]\n"
     ]
    }
   ],
   "source": [
    "def list_union(a,b):\n",
    "    c=a+b\n",
    "    save=[]\n",
    "    for i in c:\n",
    "        if(not(i in save)):\n",
    "            save.append(i)\n",
    "    save.sort()\n",
    "    return save\n",
    "print list_union([1, 2, 3], [1, 2, 4])\n",
    "print list_union([-10, -5, 0, -1], [100, 9, 0, 9])\n",
    "print list_union([0, 1, 2], [0, 1, 2])"
   ]
  },
  {
   "cell_type": "markdown",
   "metadata": {
    "collapsed": true
   },
   "source": [
    "#####c라는 변수에 2개의 리스트를 합쳐서 저장하였고 for문을 돌려 각 c안에 있는 값마다 save안에 들어가 있는지 in을 이용하여 판별한 뒤 존재하지 않으면 save에 append하도록 하였고 마지막에 이 걸러진 save를 sort()를 이용하여 정렬해서 반환해 출력해 주었다."
   ]
  },
  {
   "cell_type": "markdown",
   "metadata": {},
   "source": [
    "#####5번\n",
    "#####앞에서부터 읽을 때나 뒤에서부터 읽을 때나 모양이 같은 수를 대칭수(palindrome)라고 부릅니다.\n",
    "\n",
    "#####두 자리 수를 곱해 만들 수 있는 대칭수 중 가장 큰 수는 9009 (= 91 × 99) 입니다.\n",
    "\n",
    "#####세 자리 수를 곱해 만들 수 있는 가장 큰 대칭수는 얼마입니까?\n"
   ]
  },
  {
   "cell_type": "code",
   "execution_count": 3,
   "metadata": {
    "collapsed": false
   },
   "outputs": [
    {
     "name": "stdout",
     "output_type": "stream",
     "text": [
      "906609\n"
     ]
    }
   ],
   "source": [
    "a=[]\n",
    "for i in range(900,1000):\n",
    "    for j in range(900,1000):\n",
    "        now=i*j\n",
    "        tmp=[]\n",
    "        save=i*j\n",
    "        for k in range(1,7):\n",
    "            tmp.append(save/pow(10,6-k))\n",
    "            save-=(save/pow(10,6-k))*pow(10,6-k)   \n",
    "        if(tmp[0]==tmp[5] and tmp[1]==tmp[4] and tmp[2]==tmp[3]):\n",
    "            a.append(now)\n",
    "print max(a)"
   ]
  },
  {
   "cell_type": "markdown",
   "metadata": {
    "collapsed": true
   },
   "source": [
    "#####3자리로 만들 수 있느 가장 큰 대칭수를 구하는 문제로 가장 큰 대칭수는 3자리 수 중 가장 큰 수인 999에 인접할 것이라 생각하여 범위를 900-999로 잡고 시작하였다. 이후 현재 숫자를 저장할 now변수와 연산을 하는데 사용할 now와 같은 값을 가지는 save변수를 만들었고 tmp라는 빈 리스트에 save값을 각 자릿수 마다 쪼개어 append해 주었다. 이후 tmp리스트에 들어있는 값을 하나씩 꺼내 0번과 5번, 1번과 4번, 2번과 3번이 같은지 비교하여 같다면 a라는 빈 리스트에 그 값을 저장하도록 하였고 a에 저장된 값중 가장 큰 값을 출력하였다."
   ]
  },
  {
   "cell_type": "markdown",
   "metadata": {},
   "source": [
    "#####6번\n",
    "#####1 ~ 10 사이의 어떤 수로도 나누어 떨어지는 가장 작은 수는 2520입니다.\n",
    "\n",
    "#####그러면 1 ~ 20 사이의 어떤 수로도 나누어 떨어지는 가장 작은 수는 얼마입니까?\n"
   ]
  },
  {
   "cell_type": "code",
   "execution_count": 5,
   "metadata": {
    "collapsed": false
   },
   "outputs": [
    {
     "name": "stdout",
     "output_type": "stream",
     "text": [
      "232792560\n"
     ]
    }
   ],
   "source": [
    "a=[0,0,0,0,0,0,0,0,0,0,0,0,0,0,0,0,0,0,0,0]\n",
    "b=[]\n",
    "answer=1\n",
    "for i in range(20):\n",
    "    b.append(i+1)\n",
    "for i in range(2,21):\n",
    "    for j in range(20):\n",
    "        a[j]=0\n",
    "\n",
    "    start=1\n",
    "    while(start<20):\n",
    "        if(b[start]%i==0):\n",
    "            a[start-1]+=1\n",
    "            b[start]/=i\n",
    "        else:\n",
    "            start+=1\n",
    "    if(max(a)>0):\n",
    "        answer*=pow(i,max(a))\n",
    "print answer"
   ]
  },
  {
   "cell_type": "markdown",
   "metadata": {
    "collapsed": true
   },
   "source": [
    "##### 이 문제는 모든 수는 소수의 곱으로 이루어져 있다는 점과 최고 공배수를 생각하며 풀었다.  따라서 한 배열에 1부터 20사이의 모든 수를 저장 해 두고 다른 한 배열에는 각 소수로 1-20사이의 숫자가 나누어 지는 횟수를 저장하도록 하였고, 그 나누어진 횟수 중 가장 큰 값만을 현재 사용된 소수의 n승 하여 답에 곱해주었다. 즉 1-20사이 모든 수의 최소공배수를 구한 것이다."
   ]
  },
  {
   "cell_type": "markdown",
   "metadata": {},
   "source": [
    "#####7번\n",
    "#####1부터 10까지 자연수를 각각 제곱해 더하면 다음과 같습니다 (제곱의 합).\n",
    "\n",
    "#####1^2 + 2^2 + ... + 10^2 = 385\n",
    "\n",
    "#####1부터 10을 먼저 더한 다음에 그 결과를 제곱하면 다음과 같습니다 (합의 제곱).\n",
    "\n",
    "#####(1 + 2 + ... + 10)^2 = 55^2 = 3025\n",
    "\n",
    "#####따라서 1부터 10까지 자연수에 대해 \"합의 제곱\"과 \"제곱의 합\" 의 차이는 3025 - 385 = 2640 이 됩니다.\n",
    "\n",
    "#####그러면 1부터 100까지 자연수에 대해 \"합의 제곱\"과 \"제곱의 합\"의 차이는 얼마입니까?\n"
   ]
  },
  {
   "cell_type": "code",
   "execution_count": 22,
   "metadata": {
    "collapsed": false
   },
   "outputs": [
    {
     "name": "stdout",
     "output_type": "stream",
     "text": [
      "25164150\n"
     ]
    }
   ],
   "source": [
    "save1=0\n",
    "save2=0\n",
    "for i in range(1,101):\n",
    "    save1+=i*i\n",
    "for i in range(1,101):\n",
    "    save2+=i\n",
    "save2=save2*save2\n",
    "print save2-save1"
   ]
  },
  {
   "cell_type": "markdown",
   "metadata": {
    "collapsed": true
   },
   "source": [
    "#####크게 고민하지 않고 그냥 for문 2개를 사용하고 계산한 두 값을 뺴서 답을 구하였다."
   ]
  },
  {
   "cell_type": "markdown",
   "metadata": {},
   "source": [
    "#####8번\n",
    "#####웹 URL로 지정된 웹페이지를 문자열로 가져와 1) 모든 HTML 태그를 제외한 순수 텍스트 문자열만을 걸러내고, 2) 그 순수 텍스트 문자열 안에 존재하는 단어가 총 몇개인지 출력하는 프로그램을 작성하시오\n"
   ]
  },
  {
   "cell_type": "code",
   "execution_count": 14,
   "metadata": {
    "collapsed": false,
    "scrolled": true
   },
   "outputs": [
    {
     "name": "stdout",
     "output_type": "stream",
     "text": [
      "\n",
      "\n",
      "\n",
      "\n",
      "\n",
      "\n",
      "\n",
      "\n",
      "컴퓨터공학부\n",
      "\n",
      "\n",
      "\n",
      "\n",
      "\n",
      "\n",
      "\n",
      "\n",
      "\n",
      "\n",
      "\n",
      "\n",
      "\n",
      "\n",
      "\n",
      "\n",
      "\n",
      "\n",
      "\n",
      "\n",
      "\n",
      "\n",
      "\n",
      "\n",
      "\n",
      "\n",
      "\n",
      "\n",
      "\n",
      " \n",
      "\n",
      "\n",
      "\n",
      "\n",
      "\n",
      "\n",
      "\t\n",
      "\tSchoolfun - Study and Fun\n",
      "\t\n",
      "\t\n",
      "\t\n",
      "\t\t\n",
      "\t\n",
      "\t\n",
      "\t\t\n",
      "\t\t\t\n",
      "\n",
      "\n",
      "\n",
      "\t\n",
      "\t\t\n",
      "\t\t\t\n",
      "\t\t\t\t\n",
      "\t\t\t\t\n",
      "\t\t\t\t\n",
      "\t\t\t\n",
      "\t\t\t\n",
      "\t\t\t\n",
      "\t\t\t\t\n",
      "\t\t\t\t\t\t\t\t\t\n",
      "\t\t\t\t\t\n",
      "\t로그인\n",
      "\t\n",
      "\t\t로그인\n",
      "\t\t\n",
      "\t\t\n",
      "\t\t\n",
      "\t\t\t\t\n",
      "\t\t\t아이디\t\t\t\t\t\t\t\t\t\t\t\t비밀번호\n",
      "\t\t\t\n",
      "\t\t\t\n",
      "\t\t\t\t\n",
      "\t\t\t\t로그인 유지\n",
      "\t\t\t\n",
      "\t\t\t브라우저를 닫더라도 로그인이 계속 유지될 수 있습니다. 로그인 유지 기능을 사용할 경우 다음 접속부터는 로그인할 필요가 없습니다. 단, 게임방, 학교 등 공공장소에서 이용 시 개인정보가 유출될 수 있으니 꼭 로그아웃을 해주세요.\n",
      "\t\t\n",
      "\t\t\n",
      "\t\t\n",
      "\t\t\t회원가입\n",
      "\t\t\tID/PW 찾기\n",
      "\t\t\n",
      "\t\n",
      "\n",
      "\n",
      "\t\t\t\t\n",
      "\t\t\t\tIT 교육의 글로벌 메카!한국기술교육대학교 컴퓨터공학부\n",
      "\t\t\t\n",
      "\t\t\n",
      "\t\n",
      "\t\n",
      "\t\tClose\n",
      "\t\t\n",
      "\t\t\t\n",
      "\t\t\t\t\n",
      "\t\t\t\t\n",
      "\t\t\t\t\n",
      "\t\t\t\n",
      "\t\t\t\n",
      "\t\t\t\t\t\t\t\t\n",
      "\t\t\t\t\t\t\t\t\t\t소개\n",
      "\t\t\t\t\t\t\t\t\t\t\n",
      "\t\t\t\t\n",
      "\t\t\t\t\t\t\t\t\t\t\t\t\t\n",
      "\t\t\t\t\t\t\t\t\t\t구성원소개\n",
      "\t\t\t\t\t\t\t\t\t\t\n",
      "\t\t\t\t\n",
      "\t\t\t\t\t\t\t\t\t\t\t\t\t\n",
      "\t\t\t\t\t\t\t\t\t\t학사안내\n",
      "\t\t\t\t\t\t\t\t\t\t\n",
      "\t\t\t\t\n",
      "\t\t\t\t\t\t\t\t\t\t\t\t\t\n",
      "\t\t\t\t\t\t\t\t\t\t입학\n",
      "\t\t\t\t\t\n",
      "                        학부\n",
      "                        대학원\n",
      "                    \n",
      "\t\t\t\t\t\t\t\t\t\t\n",
      "\t\t\t\t\n",
      "\t\t\t\t\t\t\t\t\t\t\t\t\t\n",
      "\t\t\t\t\t\t\t\t\t\t학부광장\n",
      "\t\t\t\t\t\t\t\t\t\t\n",
      "\t\t\t\t\n",
      "\t\t\t\t\t\t\t\t\t\t\t\t\t\n",
      "\t\t\t\t\t\t\t\t\t\t자료실\n",
      "\t\t\t\t\t\t\t\t\t\t\n",
      "\t\t\t\t\n",
      "\t\t\t\t\t\t\t\t\t\t\t\t\t\n",
      "\t\t\t\t\t\t\t\t\t\t대학원\n",
      "\t\t\t\t\t\t\t\t\t\t\n",
      "\t\t\t\t\n",
      "\t\t\t\t\t\t\t\t\t\t\t\t\t\n",
      "\t\t\t\t\t\t\t\t\t\t공학교육인증\n",
      "\t\t\t\t\t\t\t\t\t\t\n",
      "\t\t\t\t\n",
      "\t\t\t\t\t\t\t\t\t\t\t\t\t\n",
      "\t\t\t\t\t\t\t\t\t\t\n",
      "\t\t\t\t\t\t\t\t\t\t\n",
      "\t\t\t\t\n",
      "\t\t\t\t\t\t\t\t\t\t\t\t\t\n",
      "\t\t\t\n",
      "                        \t\t\tRegistration\n",
      "                        \t\t\n",
      "\t\n",
      "      \n",
      "\t        \t        \n",
      "\n",
      "\n",
      "    \n",
      "        \n",
      "            컴퓨터공학부\n",
      "                School of Computer Science and Engineering\n",
      "                \n",
      "            \n",
      "            \n",
      "                IT 융합소프트웨어 인력양성사업\n",
      "                CK (Creative Korea)-I\n",
      "                \n",
      "            \n",
      "            \n",
      "                교육역량강화사업 온라인 컨텐츠\n",
      "                Online Contents for Education Capability Empowerment\n",
      "                \n",
      "            \n",
      "        \n",
      "    \n",
      "\t\n",
      "        \n",
      "        \n",
      "        \n",
      "            \n",
      "                IT 교육의 글로벌 메카\n",
      "                한국기술교육대학교 컴퓨터공학부 홈페이지에 오신 것을환영합니다!\n",
      "            \n",
      "        \n",
      "    \n",
      "    \n",
      "        \n",
      "        \n",
      "\t\n",
      "            \n",
      "                IT 융합소프트웨어 인력양성사업\n",
      "                글로벌 수준의 IT전문인력 양성\n",
      "IT융합분야에 대한 국제적인 경쟁력 고취\n",
      "                바로가기\n",
      "            \n",
      "        \n",
      "    \n",
      "    \n",
      "        \n",
      "        \n",
      "\t\n",
      "            \n",
      "                교육역량강화사업 컨텐츠\n",
      "                교육역량강화사업 온라인 컨텐츠를 소개합니다.\n",
      "                바로가기\n",
      "            \n",
      "        \n",
      "    \n",
      "\n",
      "\n",
      "\n",
      "    \t\t\n",
      "    \n",
      "\n",
      "\t\n",
      "                공지사항\n",
      "    \n",
      "                    \n",
      "                                                                                        [특성화] 토익, 오픽 강좌 수요조사 공고\n",
      "                                                                                                                            2015-10-06 16:41 16:41\n",
      "                                    \n",
      "                \n",
      "                                                                                        [특성화] IT융합 개도국 해외기술지원봉사 참가자 모집...\n",
      "                                                                                                                            2015-10-05 16:38 16:38\n",
      "                                    \n",
      "                \n",
      "                                                                                        [특성화] 장비대여 안내\n",
      "                                                                                                                            2015-10-05 15:28 15:28\n",
      "                                    \n",
      "                \n",
      "                                                                                        제4회 TOPCIT 정기평가\n",
      "                                                                                                                            2015-10-05 14:56 14:56\n",
      "                                    \n",
      "                \n",
      "                                                                                        [특성화] 국제게임전시회 G-star 2015 참관 안내\n",
      "                                                                                                                            2015-10-05 11:51 11:51\n",
      "                                    \n",
      "            \n",
      "            \n",
      "\n",
      "\n",
      "\n",
      "\n",
      "\t\n",
      "                자유게시판\n",
      "    \n",
      "                    \n",
      "                                                                                        (주) 엔에스이 에서 개발자를 모집합니다.\n",
      "                                                                                                                            2015-09-30 13:30 13:30\n",
      "                                    \n",
      "                \n",
      "                                                                                        졸업작품 전시회 컴퓨터공학부 인기상 투표 이벤트\n",
      "                                                                                                                            2015-09-25 01:21 01:21\n",
      "                                    \n",
      "                \n",
      "                                                                                        삼성 대학생 프로그래밍 경진대회\n",
      "                                                                                                                            2015-09-15 11:17 11:17\n",
      "                                    \n",
      "                \n",
      "                                                                                        2015년 4차 모의토익 지원\n",
      "                                                                                                                            2015-09-09 23:34 23:34\n",
      "                                    \n",
      "                \n",
      "                                                                                        난 괜찮아, 돌아가면 되지~\n",
      "                                                                                                                            2015-09-09 15:51 15:51\n",
      "                                    \n",
      "            \n",
      "            \n",
      "\n",
      "\n",
      "\n",
      "\n",
      "\t\n",
      "                취업게시판\n",
      "    \n",
      "                    \n",
      "                                                                                        [특성화] (주)KMW  인턴사원 모집공고\n",
      "                                                                                                                            2015-09-23 14:31 14:31\n",
      "                                    \n",
      "                \n",
      "                                                                                        ㈜인젠트 기술연구소 전문연구요원 모집\n",
      "                                                                                                                            2015-09-14 11:54 11:54\n",
      "                                    \n",
      "                \n",
      "                                                                                        펜타인 2015년도 신입사원 채용공고\n",
      "                                                                                                                            2015-09-03 16:16 16:16\n",
      "                                    \n",
      "                \n",
      "                                                                                        LIG인베니아 (코스닥상장 LIG그룹사 디스플레이장비전...\n",
      "                                                                                                                            2015-09-03 14:01 14:01\n",
      "                                    \n",
      "                \n",
      "                                                                                        ㈜ 한울 소프트웨어 개발자\n",
      "                                                                                                                            2015-06-18 10:28 10:28\n",
      "                                    \n",
      "            \n",
      "            \n",
      "\n",
      "\n",
      "\n",
      "\n",
      "\t\n",
      "                VENTURESQUARE\n",
      "    \n",
      "                    \n",
      "                                                                                        아카마이, 2015년 2분기 인터넷 보안 현황 보고서 발표\n",
      "                                                                                    \n",
      "                                                                                    2015-10-07 14:01 14:01\n",
      "                                    \n",
      "                \n",
      "                                                                                        [실리콘밸리 비하인드 스토리 #5] 조금은 늦은 버닝맨 ...\n",
      "                                                                                    \n",
      "                                                                                    2015-10-07 14:00 14:00\n",
      "                                    \n",
      "                \n",
      "                                                                                        2015년 TIPS 프로그램 운영사 선정 설명회 열려.. 11월...\n",
      "                                                                                    \n",
      "                                                                                    2015-10-07 12:00 12:00\n",
      "                                    \n",
      "                \n",
      "                                                                                        KAIST 사회적기업가 MBA 4기 신입생 모집\n",
      "                                                                                    \n",
      "                                                                                    2015-10-07 11:39 11:39\n",
      "                                    \n",
      "                \n",
      "                                                                                        경기창조경제혁신센터, 5세대 이동통신 관련 아이디어 ...\n",
      "                                                                                    \n",
      "                                                                                    2015-10-07 11:35 11:35\n",
      "                                    \n",
      "            \n",
      "            \n",
      "\n",
      "\n",
      "\n",
      "\n",
      "\t\n",
      "                전자신문\n",
      "    \n",
      "                    \n",
      "                                                                                        이통사 스팸차단 서비스, 차단율 80% 돌파\n",
      "                                                                                    \n",
      "                                                                                    2015-10-07 14:22 14:22\n",
      "                                    \n",
      "                \n",
      "                                                                                        아이즈비전, 부산대 사물인터넷 연구센터와 협약\n",
      "                                                                                    \n",
      "                                                                                    2015-10-07 14:19 14:19\n",
      "                                    \n",
      "                \n",
      "                                                                                        KT-올레 기가 IoT 얼라이언스, 교동식품 IoT 기반 스마...\n",
      "                                                                                    \n",
      "                                                                                    2015-10-07 13:58 13:58\n",
      "                                    \n",
      "                \n",
      "                                                                                        KT M모바일, 약정없는 LTE 유심 13 요금제 출시···“10...\n",
      "                                                                                    \n",
      "                                                                                    2015-10-07 13:44 13:44\n",
      "                                    \n",
      "                \n",
      "                                                                                        SK텔레콤 생활가치 플랫폼 `펫트윈` 베타 서비스···“반...\n",
      "                                                                                    \n",
      "                                                                                    2015-10-07 13:44 13:44\n",
      "                                    \n",
      "            \n",
      "            \n",
      "\n",
      "\n",
      "\n",
      "\n",
      "\t\n",
      "                RE/CODE\n",
      "    \n",
      "                    \n",
      "                                                                                        Samsung Predicts First Quarterly Profit Growth...\n",
      "                                                                                    \n",
      "                                                                                    2015-10-07 12:44 12:44\n",
      "                                    \n",
      "                \n",
      "                                                                                        Pandora Appears Close to a $450 Million Deal f...\n",
      "                                                                                    \n",
      "                                                                                    2015-10-07 12:25 12:25\n",
      "                                    \n",
      "                \n",
      "                                                                                        Elon to Jack: ‘I Wouldn’t Recommend Running Tw...\n",
      "                                                                                    \n",
      "                                                                                    2015-10-07 10:16 10:16\n",
      "                                    \n",
      "                \n",
      "                                                                                        Elon Musk: Self-Driving Cars Are Coming Sooner...\n",
      "                                                                                    \n",
      "                                                                                    2015-10-07 10:15 10:15\n",
      "                                    \n",
      "                \n",
      "                                                                                        Here Is Bradley Cooper Discovering Virtual Rea...\n",
      "                                                                                    \n",
      "                                                                                    2015-10-07 08:57 08:57\n",
      "                                    \n",
      "            \n",
      "            \n",
      "\n",
      "\n",
      "    \n",
      "\n",
      "\n",
      "\n",
      "    \n",
      "    \n",
      "        \n",
      "            \n",
      "                \n",
      "                    \n",
      "                        Quick Navigation\n",
      "                        \n",
      "                            한국기술교육대학교 홈페이지\n",
      "                            한국기술교육대학교 WEBMAIL\n",
      "                            한국기술교육대학교 온라인 평생교육원\n",
      "                            교육역량강화사업 온라인 컨텐츠\n",
      "                            \n",
      "                            IT 융합소프트웨어 인력양성사업\n",
      "                        \n",
      "                    \n",
      "                \n",
      "            \n",
      "            \n",
      "                \n",
      "                    \n",
      "                        Campus Location\n",
      "                        \n",
      "\t                        \n",
      "                    \n",
      "                \n",
      "            \n",
      "\n",
      "                \n",
      "                    Contact CSE\n",
      "                충청남도 천안시 동남구 병천면 충절로 1600한국기술교육대학교 컴퓨터공학부 학과사무실 TEL (041) 560 1460~1461 FAX (041) 560 1462\n",
      "                \n",
      "                    Facebook\n",
      "                    Twitter\n",
      "                    Google Plus\n",
      "                    Linkedin\n",
      "\n",
      "                \n",
      "                \n",
      "            \n",
      "        \n",
      "    \n",
      "    \n",
      "        \n",
      "            \n",
      "            (31253) 충청남도 천안시 동남구 병천면 충절로 1600 (가전리, 한국기술교육대학교) 컴퓨터공학부 \n",
      "            Copyright © 2015. All rights reserved\n",
      "        \n",
      "    \n",
      "\n",
      "\n",
      "\n",
      "\n",
      "\n",
      "\n",
      "\n",
      "\n",
      "\n",
      "단어의 총 갯수는 : 439\n"
     ]
    }
   ],
   "source": [
    "import urllib2\n",
    "save=\"\"\n",
    "maxnum=0\n",
    "count=0\n",
    "key=[]\n",
    "source = urllib2.urlopen(\"http://cse.kut.ac.kr/\").read()\n",
    "for i in range(len(source)):\n",
    "    if(i==source.find('<!--<![endif]-->')+6):#source.find('<!--<![endif]-->')\n",
    "        count-=1\n",
    "    if(source[i]=='<'):\n",
    "       count+=1\n",
    "    if(count==0):\n",
    "        save+=source[i]\n",
    "    if(source[i]=='>'):\n",
    "        count-=1\n",
    "save=save.replace('//',' ')\n",
    "key=save.split()\n",
    "print save   \n",
    "print \"단어의 총 갯수는 : %d\" % len(key)"
   ]
  },
  {
   "cell_type": "markdown",
   "metadata": {
    "collapsed": true
   },
   "source": [
    "#####처음에는 그저 <>사이의 문자들만 무시하면 되는 것 같은 문제였으나 생각대로 코딩을 해 돌려보았을 때 답이 이상하게 나오는 것을 확인할 수 있었다.<의 갯수와 >의 갯수가 달랐던 것이다. 그래서 어디서 <가 하나 더 사용되었는지 찾아보았고 <!--<![endif]-->부분에서 문제가 발생함을 알 수 있었다. 그리하여 코드를  수정하여 i값이 source.find('<!--<![endif]-->')의 위치가 되면 이 부분은 부분적으로 무시하고 지나가도록 구현하였고 올바른 결과값을 낼 수 있었다. 이후 이 값들을 리스트에 split()을 이용하여 단어 별로 쪼개어 저장하였고, 총 단어의 갯수를 리스트의 길이인 len(key)를 이용하여 출력하였다."
   ]
  },
  {
   "cell_type": "markdown",
   "metadata": {},
   "source": [
    "# \n",
    "\n",
    "#####앞쪽 문제들은 비교적 쉽게 해결할 수 있었지만 오일러 프로젝트 문제들은 수학적으로 고려해야 할 것이 많았고, 마지막 문제는 생각하지 못했던 곳에서 문제가 발생하여 예외처리를 해주는 것이 조금 힘들었습니다. 그래도 처음보다는 python에 많이 익숙해져서 코딩을 할떄 이것저것 내부 기능도 사용하고 하니 한편으로는 신기하고 재미있었던 과제였던 것 같습니다. 남은 과제들과 오일러 프로젝트 문제들도 잘 풀 수 있게 되기 위하여 예습과 복습을 철저히 하여야 할 것 같습니다. "
   ]
  }
 ],
 "metadata": {
  "kernelspec": {
   "display_name": "Python 2",
   "language": "python",
   "name": "python2"
  },
  "language_info": {
   "codemirror_mode": {
    "name": "ipython",
    "version": 2
   },
   "file_extension": ".py",
   "mimetype": "text/x-python",
   "name": "python",
   "nbconvert_exporter": "python",
   "pygments_lexer": "ipython2",
   "version": "2.7.9"
  }
 },
 "nbformat": 4,
 "nbformat_minor": 0
}

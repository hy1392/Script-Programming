{
 "cells": [
  {
   "cell_type": "markdown",
   "metadata": {},
   "source": [
    "##스크립트 프로그래밍 과제1\n",
    "#####2014136032 김현국"
   ]
  },
  {
   "cell_type": "markdown",
   "metadata": {},
   "source": [
    "#####1번\n",
    "#####•a=\"Hello Python\" 문자열을 Slicing과 연결 연산자 (+)를 사용하여 \"Python Hello\"로 변경하시오.◾[주의] a 변수 자체에 \"Python Hello\" 문자열이 저장되어야 함\n"
   ]
  },
  {
   "cell_type": "code",
   "execution_count": 18,
   "metadata": {
    "collapsed": false
   },
   "outputs": [
    {
     "name": "stdout",
     "output_type": "stream",
     "text": [
      "Python Hello \n"
     ]
    }
   ],
   "source": [
    "a=\"Hello Python\"\n",
    "a=a[6:12]+a[5]+a[0:6]\n",
    "print a"
   ]
  },
  {
   "cell_type": "markdown",
   "metadata": {},
   "source": [
    "#####슬라이싱을 활용하여 a를 a[6:12]+a[5]+a[0:6]로 대체시킨 뒤에 출력 시킨다. a[]안의 숫자는 0부터 시작한다는 점과 a변수 자체에 \"Python Hello\"문자열이 저장되어야 한다는 점을 유의한다."
   ]
  },
  {
   "cell_type": "markdown",
   "metadata": {},
   "source": [
    "\n",
    "#####2번\n",
    "#####•b=\"Hello Python World\" 문자열을 Slicing과 연결 연산자 (+)를 사용하여 \"World Python Hello\"로 변경하시오.◾[주의] b 변수 자체에 \"Python Hello\" 문자열이 저장되어야 함 \n"
   ]
  },
  {
   "cell_type": "code",
   "execution_count": 28,
   "metadata": {
    "collapsed": false
   },
   "outputs": [
    {
     "name": "stdout",
     "output_type": "stream",
     "text": [
      "World Python Hello\n"
     ]
    }
   ],
   "source": [
    "b=\"Hello Python World\"\n",
    "print b[13:18],\n",
    "b=b[6:12]+b[5]+b[0:5]\n",
    "print b"
   ]
  },
  {
   "cell_type": "markdown",
   "metadata": {},
   "source": [
    "#####1번과 동일한 방법의 문제이다. 하지만 이번에는 b변수에 \"Python Hello\"만이 저장되어야 하므로 \"World\"부분을 먼저 출력 한 뒤 b변수 안의 내용을 [6:12]+b[5]+b[0:5]로 바꾸어 출력하였다."
   ]
  },
  {
   "cell_type": "markdown",
   "metadata": {},
   "source": [
    "\n",
    "#####3번\n",
    "#####•c=\"Hello\"를 \"olleH\"로 변경하시오◾[주의] c 변수 자체에 \"olleH\" 문자열이 저장되어야 함"
   ]
  },
  {
   "cell_type": "code",
   "execution_count": 20,
   "metadata": {
    "collapsed": false
   },
   "outputs": [
    {
     "name": "stdout",
     "output_type": "stream",
     "text": [
      "olleH\n"
     ]
    }
   ],
   "source": [
    "c=\"Hello\"\n",
    "c=c[::-1]\n",
    "print c"
   ]
  },
  {
   "cell_type": "markdown",
   "metadata": {},
   "source": [
    "#####[::-1]이 어떻게 작용하는지만 알고 있다면 쉽게 풀 수 있는 문제이다. 변수c뒤에 [::-1]만 붙여줌으로 서 해결할 수 있다."
   ]
  },
  {
   "cell_type": "markdown",
   "metadata": {},
   "source": [
    "\n",
    "#####4번\n",
    "#####•s=\"python\"에 대해 다음 문제를 풀어보시오. s[0], s[0][0], s[0][0][0]은 각각 어떤 값이 나오는지 확인하고 그 이유를 나름대로 설명해 보시오."
   ]
  },
  {
   "cell_type": "code",
   "execution_count": 29,
   "metadata": {
    "collapsed": false
   },
   "outputs": [
    {
     "name": "stdout",
     "output_type": "stream",
     "text": [
      "p\n",
      "p\n",
      "p\n"
     ]
    }
   ],
   "source": [
    "s=\"python\"\n",
    "print s[0]\n",
    "print s[0][0]\n",
    "print s[0][0][0]"
   ]
  },
  {
   "cell_type": "markdown",
   "metadata": {},
   "source": [
    "#####파이썬 에서는 문자열의 각 문자의 위치를 배열처럼 문자열[숫자]로 표현할 수 있다.  따라서 1차원 배열이든 2차원, 3차원 배열이든 [0],[0][0],[0][0][0]은 전부 맨 앞 문자를 의미하므로 전부 p가 출력된다."
   ]
  },
  {
   "cell_type": "markdown",
   "metadata": {},
   "source": [
    "\n",
    "#####5번\n",
    "#####s[-100], s[100]은 값이 나오는지 에러가 나오는지 확인하고 그 결과에 대한 이유를 나름대로 설명해 보시오."
   ]
  },
  {
   "cell_type": "code",
   "execution_count": 10,
   "metadata": {
    "collapsed": false
   },
   "outputs": [
    {
     "ename": "IndexError",
     "evalue": "string index out of range",
     "output_type": "error",
     "traceback": [
      "\u001b[1;31m---------------------------------------------------------------------------\u001b[0m",
      "\u001b[1;31mIndexError\u001b[0m                                Traceback (most recent call last)",
      "\u001b[1;32m<ipython-input-10-c66996907334>\u001b[0m in \u001b[0;36m<module>\u001b[1;34m()\u001b[0m\n\u001b[0;32m      1\u001b[0m \u001b[0ms\u001b[0m\u001b[1;33m=\u001b[0m\u001b[1;34m\"python\"\u001b[0m\u001b[1;33m\u001b[0m\u001b[0m\n\u001b[1;32m----> 2\u001b[1;33m \u001b[1;32mprint\u001b[0m \u001b[0ms\u001b[0m\u001b[1;33m[\u001b[0m\u001b[1;33m-\u001b[0m\u001b[1;36m100\u001b[0m\u001b[1;33m]\u001b[0m\u001b[1;33m,\u001b[0m\u001b[0ms\u001b[0m\u001b[1;33m[\u001b[0m\u001b[1;36m100\u001b[0m\u001b[1;33m]\u001b[0m\u001b[1;33m\u001b[0m\u001b[0m\n\u001b[0m",
      "\u001b[1;31mIndexError\u001b[0m: string index out of range"
     ]
    }
   ],
   "source": [
    "s=\"python\"\n",
    "print s[-100],s[100]"
   ]
  },
  {
   "cell_type": "markdown",
   "metadata": {},
   "source": [
    "#####s문자열의 총 크기는 0~5까지인데 그 범위 밖의 값을 출력하라고 하였으므로 배열의 범위를 벗어난다는 요류가 출력된다."
   ]
  },
  {
   "cell_type": "markdown",
   "metadata": {},
   "source": [
    "\n",
    "#####6번\n",
    "#####s[-100, 100]은 값이 나오는지 에러가 나오는지 확인하고 그 결과에 대한 이유를 나름대로 설명해 보시오."
   ]
  },
  {
   "cell_type": "code",
   "execution_count": 31,
   "metadata": {
    "collapsed": false
   },
   "outputs": [
    {
     "ename": "TypeError",
     "evalue": "string indices must be integers, not tuple",
     "output_type": "error",
     "traceback": [
      "\u001b[1;31m---------------------------------------------------------------------------\u001b[0m",
      "\u001b[1;31mTypeError\u001b[0m                                 Traceback (most recent call last)",
      "\u001b[1;32m<ipython-input-31-77816a9e48e8>\u001b[0m in \u001b[0;36m<module>\u001b[1;34m()\u001b[0m\n\u001b[0;32m      1\u001b[0m \u001b[0ms\u001b[0m\u001b[1;33m=\u001b[0m\u001b[1;34m\"python\"\u001b[0m\u001b[1;33m\u001b[0m\u001b[0m\n\u001b[1;32m----> 2\u001b[1;33m \u001b[1;32mprint\u001b[0m \u001b[0ms\u001b[0m\u001b[1;33m[\u001b[0m\u001b[1;33m-\u001b[0m\u001b[1;36m100\u001b[0m\u001b[1;33m,\u001b[0m\u001b[1;36m100\u001b[0m\u001b[1;33m]\u001b[0m\u001b[1;33m\u001b[0m\u001b[0m\n\u001b[0m",
      "\u001b[1;31mTypeError\u001b[0m: string indices must be integers, not tuple"
     ]
    }
   ],
   "source": [
    "s=\"python\"\n",
    "print s[-100,100]"
   ]
  },
  {
   "cell_type": "markdown",
   "metadata": {},
   "source": [
    "#####문자열은 1차원 배열로 볼 수 있는데 -100,100을 인자로 넣어 2차원 배열의 값을 출력하라고 하였으므로  튜플이 아닌 integer값이 와야 한다는 에러가 발생한다."
   ]
  },
  {
   "cell_type": "markdown",
   "metadata": {},
   "source": [
    "\n",
    "#####7번\n",
    "#####s[1:-1]의 결과를 확인하고 그 결과에 대한 이유를 정확하게 설명하시오."
   ]
  },
  {
   "cell_type": "code",
   "execution_count": 32,
   "metadata": {
    "collapsed": false
   },
   "outputs": [
    {
     "name": "stdout",
     "output_type": "stream",
     "text": [
      "ytho\n"
     ]
    }
   ],
   "source": [
    "s=\"python\"\n",
    "print s[1:-1]"
   ]
  },
  {
   "cell_type": "markdown",
   "metadata": {},
   "source": [
    "#####직접 p를 0이라 하고 숫자를 세어 각 위치의 문자를 보면 s[1]이 y이고 s[-1] n 이다. 따라서 y부터 n 이전 까지를 출력하므로 print로 출력되는 값은 ytho가 된다."
   ]
  },
  {
   "cell_type": "markdown",
   "metadata": {},
   "source": [
    "\n",
    "#####8번\n",
    "#####s[3:-3]의 결과를 확인하고 그 결과에 대한 이유를 정확하게 설명하시오."
   ]
  },
  {
   "cell_type": "code",
   "execution_count": 2,
   "metadata": {
    "collapsed": false
   },
   "outputs": [
    {
     "name": "stdout",
     "output_type": "stream",
     "text": [
      "\n"
     ]
    }
   ],
   "source": [
    "s=\"python\"\n",
    "print s[3:-3]"
   ]
  },
  {
   "cell_type": "markdown",
   "metadata": {},
   "source": [
    "#####직접 p를 0이라 하고 숫자를 세어 각 위치의 문자를 보면 s[3]이 h이고 s[-3]또한 h 이다. 따라서 h부터 h 이전 까지를 출력하므로 print로 출력되는 값이 없다."
   ]
  },
  {
   "cell_type": "markdown",
   "metadata": {},
   "source": [
    "\n",
    "#####9번\n",
    "#####•for문을 활용하여 1부터 100사이의 홀수를 출력하시오."
   ]
  },
  {
   "cell_type": "code",
   "execution_count": 34,
   "metadata": {
    "collapsed": false
   },
   "outputs": [
    {
     "name": "stdout",
     "output_type": "stream",
     "text": [
      "1 3 5 7 9 11 13 15 17 19 21 23 25 27 29 31 33 35 37 39 41 43 45 47 49 51 53 55 57 59 61 63 65 67 69 71 73 75 77 79 81 83 85 87 89 91 93 95 97 99\n"
     ]
    }
   ],
   "source": [
    "for i in range(100):\n",
    "    if(i%2==0):\n",
    "        continue\n",
    "    print i,"
   ]
  },
  {
   "cell_type": "markdown",
   "metadata": {},
   "source": [
    "#####1~100사이의 홀수만을 출력하여야 하므로 for문 안에 if문을 넣어 만약 2로 나누어 나머지가 0이면 (짝수이면) continue를 홀수라면 그 숫자를 출력하도록 하였다."
   ]
  },
  {
   "cell_type": "markdown",
   "metadata": {
    "collapsed": true
   },
   "source": [
    "\n",
    "#####10번\n",
    "#####•while문을 활용하여 1부터 100사이의 짝수의 합을 계산하여 출력하시오."
   ]
  },
  {
   "cell_type": "code",
   "execution_count": 36,
   "metadata": {
    "collapsed": false
   },
   "outputs": [
    {
     "name": "stdout",
     "output_type": "stream",
     "text": [
      "4950\n"
     ]
    }
   ],
   "source": [
    "num=1\n",
    "sum=0\n",
    "while(num<=100):\n",
    "    if(num%2==0):\n",
    "        sum+=i\n",
    "    num+=1\n",
    "print sum"
   ]
  },
  {
   "cell_type": "markdown",
   "metadata": {
    "collapsed": true
   },
   "source": [
    "#####1~100사이의 짝수만의 합을 출력하여야 하므로 while문을 num이 100보다 작거나 같을 동안 까지 if문을 넣어 만약 2로 나누어 나머지가 0이면 (짝수이면) sum에 값을 더해주어 sum값을  최종적으로 출력하도록 하였다"
   ]
  },
  {
   "cell_type": "markdown",
   "metadata": {},
   "source": [
    "\n",
    "#####11번\n",
    "#####•사용자로 부터 임의의 정수를 입력받고, 해당 숫자를 역순으로 출력하는 프로그램을 작성하시오."
   ]
  },
  {
   "cell_type": "code",
   "execution_count": 1,
   "metadata": {
    "collapsed": false
   },
   "outputs": [
    {
     "name": "stdout",
     "output_type": "stream",
     "text": [
      "정수를 입력하세요 : 1234\n",
      " 숫자의 역순은  4321 입니다.\n"
     ]
    }
   ],
   "source": [
    "print \"정수를 입력하세요 : \",\n",
    "num=str(raw_input())\n",
    "print \"숫자의 역순은 \",num[::-1],\"입니다.\""
   ]
  },
  {
   "cell_type": "markdown",
   "metadata": {},
   "source": [
    "#####정수를 입력하라는 문구를 출력하고 입력받은 정수를 str형태로 num에 저장한 뒤 num[::-1]을 사용하여 역순으로 출력하였다."
   ]
  },
  {
   "cell_type": "markdown",
   "metadata": {},
   "source": [
    "\n",
    "#####12번\n",
    "#####•사용자로 부터 정수를 입력받아서 1부터 그 사이에 존재하는 소수 (Prime number)를 출력하는 파이썬 프로그램을 작성하시오."
   ]
  },
  {
   "cell_type": "code",
   "execution_count": 5,
   "metadata": {
    "collapsed": false
   },
   "outputs": [
    {
     "name": "stdout",
     "output_type": "stream",
     "text": [
      "정수를 입력하여 주세요 : 100\n",
      " [2, 3, 5, 7, 11, 13, 17, 19, 23, 29, 31, 37, 41, 43, 47, 53, 59, 61, 67, 71, 73, 79, 83, 89, 97]\n"
     ]
    }
   ],
   "source": [
    "print \"정수를 입력하여 주세요 : \",\n",
    "userinput=int(raw_input())\n",
    "result=[]\n",
    "start=2\n",
    "while(start!=userinput):\n",
    "    num=0\n",
    "    for i in range(2,start+1):\n",
    "        if(start%i==0):\n",
    "            num+=1\n",
    "            if(num>1):\n",
    "                start+=1\n",
    "                break\n",
    "    if(num==1):\n",
    "        result.append(start)\n",
    "        start+=1\n",
    "print result"
   ]
  },
  {
   "cell_type": "markdown",
   "metadata": {},
   "source": [
    "#####사용자로부터 정수의 값을 입력 받은 뒤 시작값인 start가 입력받은 값과 같지 않을 동안 반복하는 while문을 만들어 사용했다. while문 안에서는 또다시 for문이 사용되는데 이 부분에서 현재 start값이 자신이 아닌 다른 수로 몇번 나누어 지는지 센 뒤 한 번을 초과할 경우 버리고 한 번일 경우 배열에 append해 둔 뒤 마지막에 배열 result를 출력함으로서 입력받은 정수 까지의 모든 소수가 출력되도록 하였다."
   ]
  },
  {
   "cell_type": "markdown",
   "metadata": {},
   "source": [
    "\n",
    "#####13번\n",
    "#####10보다 작은 자연수 중에서 3 또는 5의 배수는 3, 5, 6, 9 이고, 이것을 모두 더하면 23입니다.\n",
    "\n",
    "#####1000보다 작은 자연수 중에서 3 또는 5의 배수를 모두 더하면 얼마일까요?"
   ]
  },
  {
   "cell_type": "code",
   "execution_count": 6,
   "metadata": {
    "collapsed": false
   },
   "outputs": [
    {
     "name": "stdout",
     "output_type": "stream",
     "text": [
      "233168\n"
     ]
    }
   ],
   "source": [
    "save=0\n",
    "for i in range(1,1000):\n",
    "    if(i%3==0 or i%5==0):\n",
    "        save+=i\n",
    "print save"
   ]
  },
  {
   "cell_type": "markdown",
   "metadata": {},
   "source": [
    "#####range를 (1,1000)으로 설정하여 for문을 반복하면서 그 안의 if문에서 3 또는 5의 배수인지 검사하도록 한 뒤 참이라면 그 값을 save에 더해주고 마지막에 save에 저장된 총 합을 출력하도록 하였다."
   ]
  },
  {
   "cell_type": "markdown",
   "metadata": {},
   "source": [
    "\n",
    "#####14번\n",
    "#####피보나치 수열의 각 항은 바로 앞의 항 두 개를 더한 것이 됩니다. 1과 2로 시작하는 경우 이 수열은 아래와 같습니다.\n",
    "\n",
    "#####1, 2, 3, 5, 8, 13, 21, 34, 55, 89, ... \n",
    "\n",
    "#####짝수이면서 4백만 이하인 모든 항을 더하면 얼마가 됩니까?"
   ]
  },
  {
   "cell_type": "code",
   "execution_count": 7,
   "metadata": {
    "collapsed": false
   },
   "outputs": [
    {
     "name": "stdout",
     "output_type": "stream",
     "text": [
      "4613732\n"
     ]
    }
   ],
   "source": [
    "a=1\n",
    "b=2\n",
    "c=0\n",
    "save=2\n",
    "\n",
    "while(c<4000000):\n",
    "    c=a+b\n",
    "    if(c%2==0):\n",
    "        save+=c\n",
    "    a=b\n",
    "    b=c\n",
    "print save"
   ]
  },
  {
   "cell_type": "markdown",
   "metadata": {},
   "source": [
    "#####a,b를 피보나치 첫 번째, 두 번째 항으로 두고 c에 그 합을 저장하고 짝수인지 판별하여 짝수일 경우 save변수에 저장해 주었다. 그 후 a에는 b의 값을, b에는 c의 값으로 설정하여 c에는 항상 피보나치 2 항의 합이 저장되도록 만들었다."
   ]
  },
  {
   "cell_type": "markdown",
   "metadata": {},
   "source": [
    "\n",
    "#####15번\n",
    "#####어떤 수를 소수의 곱으로만 나타내는 것을 소인수분해라 하고, 이 소수들을 그 수의 소인수라고 합니다.\n",
    "#####예를 들면 13195의 소인수는 5, 7, 13, 29 입니다.\n",
    "\n",
    "#####600851475143의 소인수 중에서 가장 큰 수를 구하세요.\n"
   ]
  },
  {
   "cell_type": "code",
   "execution_count": 9,
   "metadata": {
    "collapsed": false
   },
   "outputs": [
    {
     "name": "stdout",
     "output_type": "stream",
     "text": [
      "6857\n"
     ]
    }
   ],
   "source": [
    "a=600851475143\n",
    "save=[]\n",
    "\n",
    "i=2\n",
    "while(1):\n",
    "    if(a/i==0):\n",
    "        break\n",
    "    if(a%i==0):\n",
    "        a=a/i\n",
    "        save.append(i)\n",
    "    else:\n",
    "        i+=1\n",
    "print max(save)"
   ]
  },
  {
   "cell_type": "markdown",
   "metadata": {
    "collapsed": true
   },
   "source": [
    "#####모든 수는 소수의 곱으로 이루어져 있다는 사실을 생각해 내는 것이 핵심이었던 문제라고 생각한다. 따라서 주어진 수를 가작 작은 소수로 부터 계속 나누다보면 결국 가장 큰 소수 하나만이 남게 될 것이다. 그럼 이 값을 출력해 주면 된다."
   ]
  },
  {
   "cell_type": "markdown",
   "metadata": {},
   "source": [
    "\n",
    "#####파이썬을 처음 배운다고 생각했을 때 에는 새로운 언어를 배운다는 압박감이 컷는데 막상 파이썬을 접해보니 생각보다 C++,java에 비하여 간결하고 편리하게 쓸 수 있다는 느낌을 받았다. 물론 처음인지라 아직 헷갈리는 부분이 많기는 하지만 자주 쓰면서 연습하고 문법을 익혀가다 보면 다른 언어보다 훨씬 쉽고 편하게 원하는 것을 구현할 수 있을 것이라는 생각이 들었다. 앞으로 수업과 과제 할 때 열심히 연습하여 파이썬을 좀 더 능숙하게 다룰 수 있도록 해야겠다."
   ]
  }
 ],
 "metadata": {
  "kernelspec": {
   "display_name": "Python 2",
   "language": "python",
   "name": "python2"
  },
  "language_info": {
   "codemirror_mode": {
    "name": "ipython",
    "version": 2
   },
   "file_extension": ".py",
   "mimetype": "text/x-python",
   "name": "python",
   "nbconvert_exporter": "python",
   "pygments_lexer": "ipython2",
   "version": "2.7.9"
  }
 },
 "nbformat": 4,
 "nbformat_minor": 0
}
